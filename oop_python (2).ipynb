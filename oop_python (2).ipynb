{
 "cells": [
  {
   "cell_type": "code",
   "execution_count": 1,
   "id": "0f0afdca",
   "metadata": {},
   "outputs": [
    {
     "name": "stdout",
     "output_type": "stream",
     "text": [
      "Requirement already satisfied: selenium in c:\\users\\mylap\\anaconda3\\lib\\site-packages (4.1.0)\n",
      "Requirement already satisfied: trio~=0.17 in c:\\users\\mylap\\anaconda3\\lib\\site-packages (from selenium) (0.19.0)\n",
      "Requirement already satisfied: trio-websocket~=0.9 in c:\\users\\mylap\\anaconda3\\lib\\site-packages (from selenium) (0.9.2)\n",
      "Requirement already satisfied: urllib3[secure]~=1.26 in c:\\users\\mylap\\anaconda3\\lib\\site-packages (from selenium) (1.26.7)\n",
      "Requirement already satisfied: idna in c:\\users\\mylap\\anaconda3\\lib\\site-packages (from trio~=0.17->selenium) (3.2)\n",
      "Requirement already satisfied: async-generator>=1.9 in c:\\users\\mylap\\anaconda3\\lib\\site-packages (from trio~=0.17->selenium) (1.10)\n",
      "Requirement already satisfied: attrs>=19.2.0 in c:\\users\\mylap\\anaconda3\\lib\\site-packages (from trio~=0.17->selenium) (21.2.0)\n",
      "Requirement already satisfied: sortedcontainers in c:\\users\\mylap\\anaconda3\\lib\\site-packages (from trio~=0.17->selenium) (2.4.0)\n",
      "Requirement already satisfied: sniffio in c:\\users\\mylap\\anaconda3\\lib\\site-packages (from trio~=0.17->selenium) (1.2.0)\n",
      "Requirement already satisfied: outcome in c:\\users\\mylap\\anaconda3\\lib\\site-packages (from trio~=0.17->selenium) (1.1.0)\n",
      "Requirement already satisfied: cffi>=1.14 in c:\\users\\mylap\\anaconda3\\lib\\site-packages (from trio~=0.17->selenium) (1.14.6)\n",
      "Requirement already satisfied: pycparser in c:\\users\\mylap\\anaconda3\\lib\\site-packages (from cffi>=1.14->trio~=0.17->selenium) (2.20)\n",
      "Requirement already satisfied: wsproto>=0.14 in c:\\users\\mylap\\anaconda3\\lib\\site-packages (from trio-websocket~=0.9->selenium) (1.0.0)\n",
      "Requirement already satisfied: pyOpenSSL>=0.14 in c:\\users\\mylap\\anaconda3\\lib\\site-packages (from urllib3[secure]~=1.26->selenium) (21.0.0)\n",
      "Requirement already satisfied: cryptography>=1.3.4 in c:\\users\\mylap\\anaconda3\\lib\\site-packages (from urllib3[secure]~=1.26->selenium) (3.4.8)\n",
      "Requirement already satisfied: certifi in c:\\users\\mylap\\anaconda3\\lib\\site-packages (from urllib3[secure]~=1.26->selenium) (2021.10.8)\n",
      "Requirement already satisfied: six>=1.5.2 in c:\\users\\mylap\\anaconda3\\lib\\site-packages (from pyOpenSSL>=0.14->urllib3[secure]~=1.26->selenium) (1.16.0)\n",
      "Requirement already satisfied: h11<1,>=0.9.0 in c:\\users\\mylap\\anaconda3\\lib\\site-packages (from wsproto>=0.14->trio-websocket~=0.9->selenium) (0.13.0)\n",
      "Note: you may need to restart the kernel to use updated packages.\n"
     ]
    }
   ],
   "source": [
    "pip install selenium"
   ]
  },
  {
   "cell_type": "markdown",
   "id": "6c30d2ae",
   "metadata": {},
   "source": [
    "# Write a program that choose a random website name from list and open it in your browser :\n"
   ]
  },
  {
   "cell_type": "code",
   "execution_count": 2,
   "id": "70a8cf86",
   "metadata": {},
   "outputs": [
    {
     "name": "stderr",
     "output_type": "stream",
     "text": [
      "C:\\Users\\mylap\\AppData\\Local\\Temp/ipykernel_9728/648932549.py:4: DeprecationWarning: executable_path has been deprecated, please pass in a Service object\n",
      "  driver=webdriver.Chrome(r\"D:\\chrome_drive\\ch\\chromedriver.exe\")\n"
     ]
    }
   ],
   "source": [
    "from selenium import webdriver\n",
    "from time import sleep\n",
    "from random import randint\n",
    "driver=webdriver.Chrome(r\"D:\\chrome_drive\\ch\\chromedriver.exe\")\n",
    "list_of_links = [\"https://www.google.com/\", \"https://www.fb.com/\", \"https://www.twitter.com\", \"https://www.fb.com/\",\n",
    "                 \"https://www.google.com/\"]\n",
    "num_random=randint(0,5)\n",
    "driver.get(list_of_links[num_random])\n",
    "sleep(3)\n",
    "\n",
    "driver.close()\n",
    "\n"
   ]
  },
  {
   "cell_type": "markdown",
   "id": "99ab4095",
   "metadata": {},
   "source": [
    "# OOP"
   ]
  },
  {
   "cell_type": "code",
   "execution_count": 3,
   "id": "c21ee293",
   "metadata": {},
   "outputs": [
    {
     "name": "stdout",
     "output_type": "stream",
     "text": [
      "Happy\n",
      "50%hth\n",
      "Not found discount\n",
      "ali\n"
     ]
    }
   ],
   "source": [
    "class Person():\n",
    "    moods = ('Happy', 'Tired', 'Lazy')\n",
    "    def __init__(self,name,money,mood,healthRate):\n",
    "        self.name=name\n",
    "        self.money=money\n",
    "        self.mood=mood\n",
    "        self.healthRate=healthRate\n",
    "       \n",
    "    def sleep(self,hours):\n",
    "        if hours==7:\n",
    "               return self.moods[0]\n",
    "        elif hours<7:\n",
    "            return self.moods[1]\n",
    "        else:\n",
    "            return self.moods[2]\n",
    "    def eat(self,meals):\n",
    "        if meals==3:\n",
    "            print(\"100% hth\")\n",
    "        elif meals==2:\n",
    "            print(\"75%hth\")\n",
    "        else:\n",
    "            print(\"50%hth\")\n",
    "    def buy(self,item,money):\n",
    "        if item==1:\n",
    "            print(\"the discount \"+str(10)+\" pay \"+str(money-10))\n",
    "        else:\n",
    "            print(\"Not found discount\")\n",
    "p1=Person(\"ahmed\",5000,\"good\",0.6)\n",
    "\n",
    "print(p1.sleep(7))\n",
    "p1.eat(1)\n",
    "p1.buy(2,50)\n",
    "p1.name=\"ali\"\n",
    "print(p1.name)"
   ]
  },
  {
   "cell_type": "code",
   "execution_count": 4,
   "id": "74818ac7",
   "metadata": {},
   "outputs": [
    {
     "name": "stdout",
     "output_type": "stream",
     "text": [
      "the fulerate will decrease from: 0\n",
      "velocity is:  120\n",
      "the remain distance: 200\n",
      "velocitey: 0\n",
      "the remain distance: 100\n",
      "the fuel is off\n",
      "None\n"
     ]
    }
   ],
   "source": [
    "class Car:\n",
    "    \n",
    "    def __init__(self,name, fuelRate, velocity):\n",
    "        self.name=name\n",
    "        self.fuelRate=fuelRate\n",
    "        self.velocity=velocity\n",
    "        if 0 <= fuelRate <= 100:\n",
    "            self.fuelRate = fuelRate\n",
    "        else:\n",
    "            raise 'Fuel Rate Limit: the Fuel Rate must be between 0 to 100'\n",
    "        if 0 <= velocity <= 200:\n",
    "            self.velocity = velocity\n",
    "        else:\n",
    "               raise  'Speed Limit: the velocity must be between 0 to 200'\n",
    "        self.time = 0\n",
    "        \n",
    "    def run(self,velocity, distance):\n",
    "        \n",
    "        rf=self.fuelRate\n",
    "        vs=velocity\n",
    "       \n",
    "        return \"the fulerate will decrease from: \"+str(rf)+\"\\n\"+\"velocity is:  \"+str(vs)+\"\\n\"+\"the remain distance: \"+str(distance)\n",
    "        \n",
    "    def stop(self,distance):\n",
    "        vs=self.velocity\n",
    "        vs=0\n",
    "        fr=self.fuelRate\n",
    "        \n",
    "        \n",
    "        print( \"velocitey: \"+str(vs)+\"\\n\"+\"the remain distance: \"+str(distance))\n",
    "        if fr==0:\n",
    "            print(\"the fuel is off\")\n",
    "        elif distance==0:\n",
    "            print(\"you arrived\")\n",
    "            \n",
    "        \n",
    "c=Car(\"fiat128\",0,50)\n",
    "print(c.run(120,200))\n",
    "print(c.stop(100))"
   ]
  },
  {
   "cell_type": "code",
   "execution_count": 85,
   "id": "baed63b3",
   "metadata": {},
   "outputs": [
    {
     "name": "stdout",
     "output_type": "stream",
     "text": [
      "ahmed\n",
      "75%hth\n",
      "thefuel and gas amount550\n",
      "<__main__.Car object at 0x000001D087EE9310>\n",
      "thefuel and gas amount150\n",
      "ahgggss@gmail.com@gmail.com ->>great email IS Valid\n",
      "abomahmud231@gmail.com ->>great email IS Valid\n",
      "From : abomahmud231@gmail.com\n",
      "To :ahgggss@gmail.com  \n",
      "\n",
      "      Hi, Mohamed This isan email tamplate thanks\n",
      "     \n",
      "                          ahmed alaa\n",
      "          Email subject\n"
     ]
    }
   ],
   "source": [
    "\n",
    "from re import fullmatch, compile\n",
    "class Employee(Person):\n",
    "    \n",
    "    def __init__(self,name,money,mood,healthRate,id, car, email, salary, distanceToWork):\n",
    "        self.id=id\n",
    "        self.car=car\n",
    "        self.email=email\n",
    "        self.salary=salary\n",
    "        self.distanceToWork=distanceToWork\n",
    "        Person.__init__(self,name,money,mood,healthRate)\n",
    "    def work(self,hrs):\n",
    "        if hrs==8:\n",
    "            return self.moods[0]\n",
    "        elif hrs>8:\n",
    "            return self.moods[1]\n",
    "        else:\n",
    "            return self.moods[2]\n",
    "    \n",
    "    def drive(self,distance):\n",
    "        cdrive=Car(\"fiat128\",0,200)\n",
    "        cdrive.run(100,distance)\n",
    "        return cdrive\n",
    "    def refuel(self,gasAmount = 100):\n",
    "        fuelc=Car(\"fiat128\",50,200)\n",
    "        fuel=fuelc.fuelRate\n",
    "        fuel=fuel+gasAmount\n",
    "        return \"thefuel and gas amount\"+str(fuel)\n",
    "        \n",
    "    def send_mail(self,to, subject, msg, receiver_name):\n",
    "      \n",
    "        return \"From : abomahmud231@gmail.com\\n\"+\"To :\"+to+\"  \\n\"+\"\\n\"+\"     \"+msg+\"\\n\"+\"     \\n\"+\"                          \"+receiver_name+\"\\n\"+\"          \"+subject\n",
    "    \n",
    "    def valid_date_email(self, email):\n",
    "        regex = compile(r'([A-Za-z0-9]+[!-_])*[A-Za-z0-9]+@[A-Za-z0-9-]+(\\.[A-Z|a-z]{2,})+')\n",
    "        while True:\n",
    "            if fullmatch(regex, email):\n",
    "                break\n",
    "            else:\n",
    "                raise \"Invalid email: try enter again the e-mail should be like this (example@mail.com)\"\n",
    "        return email+\" ->>great email IS Valid\"\n",
    "        \n",
    "p1=Employee(\"ahmed\",5000,\"good\",70,122,\"fiat128\",\"ahmdd@gmail.com\",2000,\"20k\")    \n",
    "print(p1.name)\n",
    "p1.work(8)\n",
    "p1.eat(2)\n",
    "print(p1.refuel(500))\n",
    "print(p1.drive(100))\n",
    "print(p1.refuel(100))\n",
    "print(p1.valid_date_email(\"ahgggss@gmail.com@gmail.com\"))\n",
    "print(p1.valid_date_email(\"abomahmud231@gmail.com\"))\n",
    "print(p1.send_mail(\"ahgggss@gmail.com\",\"Email subject\",\" Hi, Mohamed This isan email tamplate thanks\",\"ahmed alaa\"))\n"
   ]
  },
  {
   "cell_type": "code",
   "execution_count": 6,
   "id": "d5ccbe42",
   "metadata": {},
   "outputs": [
    {
     "name": "stdout",
     "output_type": "stream",
     "text": [
      "['ahmed', 'ali', 'amr']\n",
      "['ahmed', 'ali', 'amr']\n",
      "name of employeeahmed\n",
      "we hire Employee  ahmed\n",
      "we fire Employee ahmed\n",
      "the deduction is 1500\n",
      "the reward and salary 2500\n",
      "you late will deduct salary: the deduction is 1500\n",
      "we arrive at time \n",
      "numbers of employess 30\n"
     ]
    }
   ],
   "source": [
    "class office:\n",
    "    employeesNum=20\n",
    "    def __init__(self,name,employees):\n",
    "        \n",
    "        self.name=name\n",
    "        self.employees=employees\n",
    "    def get_all_employees(self):\n",
    "        return self.employees\n",
    "    def  get_employee(self,empId):\n",
    "        emp=Employee(\"ahmed\",5000,\"good\",70,122,\"fiat128\",\"ahmdd@gmail.com\",2000,\"20k\") \n",
    "        emp_id=emp.id\n",
    "        \n",
    "        if emp_id==empId:\n",
    "        \n",
    "            return \"name of employee\"+str(emp.name)\n",
    "        else:\n",
    "            print(\"Not Found\")\n",
    "    def hire(self,Employee):\n",
    "        return \"we hire Employee  \" +str(Employee) \n",
    "    def fire(self,empId):\n",
    "        emp=Employee(\"ahmed\",5000,\"good\",70,122,\"fiat128\",\"ahmdd@gmail.com\",2000,\"20k\") \n",
    "        emp_id=emp.id\n",
    "        \n",
    "        if emp_id==empId:\n",
    "            return \"we fire Employee \"+str(emp.name)\n",
    "    @staticmethod\n",
    "    def calculate_lateness(targetHour, moveHour, distance, velocity):\n",
    "        actual_time=distance/velocity\n",
    "        your_time=targetHour-moveHour\n",
    "        \n",
    "        if  your_time>=actual_time:\n",
    "            \n",
    "               return \"we arrive at time \"\n",
    "        else :\n",
    "            return \"we be late\"\n",
    "    @classmethod            \n",
    "    def change_emps_num(cls,num) :\n",
    "        off=office.employeesNum\n",
    "        off=num\n",
    "        return \"numbers of employess \"+str(off)\n",
    "            \n",
    "                    \n",
    "    def deduct(self,empId, deduction):\n",
    "        emp=Employee(\"ahmed\",5000,\"good\",70,122,\"fiat128\",\"ahmdd@gmail.com\",2000,\"20k\") \n",
    "        emp_id=emp.id\n",
    "        emp_salary=emp.salary\n",
    "        if emp_id==empId:\n",
    "            emp_salary-=deduction\n",
    "            return \"the deduction is \"+str(emp_salary)\n",
    "    def reward(self,empId, reward):\n",
    "        emp=Employee(\"ahmed\",5000,\"good\",70,122,\"fiat128\",\"ahmdd@gmail.com\",2000,\"20k\") \n",
    "        emp_id=emp.id\n",
    "        emp_salary=emp.salary\n",
    "        if emp_id==empId:\n",
    "            emp_salary+=reward\n",
    "            return \"the reward and salary \"+str(emp_salary)\n",
    "    def check_lateness(self,empId, moveHour):\n",
    "        emp=Employee(\"ahmed\",5000,\"good\",70,122,\"fiat128\",\"ahmdd@gmail.com\",2000,\"20k\") \n",
    "        emp_id=emp.id\n",
    "        emp_salary=emp.salary\n",
    "        if emp_id==empId:\n",
    "            if moveHour>=8:\n",
    "                return \"you late will deduct salary: \"+off.deduct(emp_id,500)\n",
    "            else:\n",
    "                \n",
    "                return \"you,re active will reward you: \"+off.reward(emp_id,500)\n",
    "            \n",
    "off=office(\"iti\",[\"ahmed\",\"ali\",\"amr\"])\n",
    "print(off.employees) \n",
    "print(off.get_all_employees())\n",
    "print(off.get_employee(122))\n",
    "print(off.hire(\"ahmed\"))\n",
    "print(off.fire(122))\n",
    "print(off.deduct(122,500))\n",
    "print(off.reward(122,500))\n",
    "print(off.check_lateness(122,8))\n",
    "\n",
    "print(office.calculate_lateness(10,9,30,30))\n",
    "\n",
    "print(off.change_emps_num(30))\n"
   ]
  },
  {
   "cell_type": "code",
   "execution_count": 67,
   "id": "5c082e41",
   "metadata": {},
   "outputs": [],
   "source": [
    "emp = Employee('mohamed', 2000, 'Happy', 50, 10, Car('fiat128', 100, 60), 'mohamed@gmail.com', 1000, 40)\n",
    "emp2 = Employee('abdelrhman', 20000, 'Happy', 100, 20, Car('fiat128', 100, 40), 'abdelrhman@gmail.com', 5000, 30)\n",
    "emp3 = Employee('ahmed', 30000, 'Happy', 80, 30, Car('fiat128', 100, 50), 'ahmed@gmail.com', 4000, 60)\n"
   ]
  },
  {
   "cell_type": "code",
   "execution_count": 68,
   "id": "830f117a",
   "metadata": {},
   "outputs": [],
   "source": [
    "employees = [emp, emp2, emp3]\n",
    "off1 = office('iti', employees)"
   ]
  },
  {
   "cell_type": "code",
   "execution_count": 69,
   "id": "ca97dbfc",
   "metadata": {},
   "outputs": [
    {
     "name": "stdout",
     "output_type": "stream",
     "text": [
      "fiat128\n",
      "fiat128\n",
      "fiat128\n"
     ]
    }
   ],
   "source": [
    "for emp in off1.get_all_employees():\n",
    "    print(emp.car.name)\n",
    " "
   ]
  },
  {
   "cell_type": "code",
   "execution_count": 73,
   "id": "8b7370c3",
   "metadata": {},
   "outputs": [],
   "source": [
    "details = {\n",
    "        \"office\":off1.name,\n",
    "        \"name\": [emp.name for emp in off1.get_all_employees()],\n",
    "        \"money\":[emp.salary for emp in off1.get_all_employees()],\n",
    "        \"car\":[emp.car.name for emp in off1.get_all_employees()],\n",
    "        \"fuel_rate\":[emp.car.fuelRate for emp in off1.get_all_employees()],\n",
    "        \"velocity\":[emp.car.velocity for emp in off1.get_all_employees()],\n",
    "        \"email\":[emp.email for emp in off1.get_all_employees()],\n",
    "         \"salary\":[emp.salary for emp in off1.get_all_employees()],\n",
    "        \"distance\":[emp.distanceToWork for emp in off1.get_all_employees()]\n",
    "}"
   ]
  },
  {
   "cell_type": "code",
   "execution_count": 74,
   "id": "8b8ab062",
   "metadata": {},
   "outputs": [],
   "source": [
    "with open(\"officeoop.json\", 'w') as f:  \n",
    "       json.dump(details, f) "
   ]
  },
  {
   "cell_type": "code",
   "execution_count": 75,
   "id": "77189cc3",
   "metadata": {},
   "outputs": [
    {
     "name": "stdout",
     "output_type": "stream",
     "text": [
      "{'office': 'iti', 'name': ['mohamed', 'abdelrhman', 'ahmed'], 'money': [1000, 5000, 4000], 'car': ['fiat128', 'fiat128', 'fiat128'], 'fuel_rate': [100, 100, 100], 'velocity': [60, 40, 50], 'email': ['mohamed@gmail.com', 'abdelrhman@gmail.com', 'ahmed@gmail.com'], 'salary': [1000, 5000, 4000], 'distance': [40, 30, 60]}\n"
     ]
    }
   ],
   "source": [
    "\n",
    "with open('officeoop.json', 'r') as f:\n",
    "      data = json.load(f)\n",
    "print(data)"
   ]
  },
  {
   "cell_type": "code",
   "execution_count": null,
   "id": "fec9009b",
   "metadata": {},
   "outputs": [],
   "source": []
  }
 ],
 "metadata": {
  "kernelspec": {
   "display_name": "Python 3 (ipykernel)",
   "language": "python",
   "name": "python3"
  },
  "language_info": {
   "codemirror_mode": {
    "name": "ipython",
    "version": 3
   },
   "file_extension": ".py",
   "mimetype": "text/x-python",
   "name": "python",
   "nbconvert_exporter": "python",
   "pygments_lexer": "ipython3",
   "version": "3.9.7"
  }
 },
 "nbformat": 4,
 "nbformat_minor": 5
}
