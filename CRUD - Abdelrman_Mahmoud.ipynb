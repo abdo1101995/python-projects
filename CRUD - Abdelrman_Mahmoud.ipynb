{
 "cells": [
  {
   "cell_type": "code",
   "execution_count": 1,
   "id": "edf2010e",
   "metadata": {},
   "outputs": [],
   "source": [
    "from pymongo import MongoClient"
   ]
  },
  {
   "cell_type": "markdown",
   "id": "3dda78fd",
   "metadata": {},
   "source": [
    "# Connecting to MongoDB"
   ]
  },
  {
   "cell_type": "code",
   "execution_count": 2,
   "id": "1ad8848c",
   "metadata": {},
   "outputs": [],
   "source": [
    "client = MongoClient(\"mongodb://localhost:27017\")"
   ]
  },
  {
   "cell_type": "code",
   "execution_count": 3,
   "id": "e5373029",
   "metadata": {},
   "outputs": [],
   "source": [
    "db = client.local"
   ]
  },
  {
   "cell_type": "markdown",
   "id": "651beabb",
   "metadata": {},
   "source": [
    "# Helper functions"
   ]
  },
  {
   "cell_type": "code",
   "execution_count": 4,
   "id": "7538d2f0",
   "metadata": {},
   "outputs": [],
   "source": [
    "def print_cursor(c):\n",
    "    for i in cursor:\n",
    "        print(i)"
   ]
  },
  {
   "cell_type": "markdown",
   "id": "4bb99a39",
   "metadata": {},
   "source": [
    "---\n",
    "# Insert Documents"
   ]
  },
  {
   "cell_type": "code",
   "execution_count": 5,
   "id": "21692902",
   "metadata": {},
   "outputs": [],
   "source": [
    "client.drop_database(\"local\")"
   ]
  },
  {
   "cell_type": "markdown",
   "id": "5fda3fbd",
   "metadata": {},
   "source": [
    "## Insert a Single Document"
   ]
  },
  {
   "cell_type": "code",
   "execution_count": 6,
   "id": "ada15def",
   "metadata": {},
   "outputs": [
    {
     "name": "stdout",
     "output_type": "stream",
     "text": [
      "{'_id': ObjectId('620c2853a2059b416e5449e4'), 'item': 'canvas', 'qty': 100, 'tags': ['cotton'], 'size': {'h': 28, 'w': 35.5, 'uom': 'cm'}}\n"
     ]
    }
   ],
   "source": [
    "db.inventory.insert_one(\n",
    "    {\"item\": \"canvas\",\n",
    "     \"qty\": 100,\n",
    "     \"tags\": [\"cotton\"],\n",
    "     \"size\": {\"h\": 28, \"w\": 35.5, \"uom\": \"cm\"}})\n",
    "\n",
    "cursor = db.inventory.find({\"item\": \"canvas\"})\n",
    "print_cursor(cursor)"
   ]
  },
  {
   "cell_type": "markdown",
   "id": "7a281c61",
   "metadata": {},
   "source": [
    "## Insert Multiple Documents"
   ]
  },
  {
   "cell_type": "code",
   "execution_count": 7,
   "id": "63af25b2",
   "metadata": {},
   "outputs": [
    {
     "name": "stdout",
     "output_type": "stream",
     "text": [
      "{'_id': ObjectId('620c2853a2059b416e5449e4'), 'item': 'canvas', 'qty': 100, 'tags': ['cotton'], 'size': {'h': 28, 'w': 35.5, 'uom': 'cm'}}\n",
      "{'_id': ObjectId('620c2853a2059b416e5449e5'), 'item': 'journal', 'qty': 25, 'tags': ['blank', 'red'], 'size': {'h': 14, 'w': 21, 'uom': 'cm'}}\n",
      "{'_id': ObjectId('620c2853a2059b416e5449e6'), 'item': 'mat', 'qty': 85, 'tags': ['gray'], 'size': {'h': 27.9, 'w': 35.5, 'uom': 'cm'}}\n",
      "{'_id': ObjectId('620c2853a2059b416e5449e7'), 'item': 'mousepad', 'qty': 25, 'tags': ['gel', 'blue'], 'size': {'h': 19, 'w': 22.85, 'uom': 'cm'}}\n"
     ]
    }
   ],
   "source": [
    "db.inventory.insert_many([\n",
    "    {\"item\": \"journal\",\n",
    "     \"qty\": 25,\n",
    "     \"tags\": [\"blank\", \"red\"],\n",
    "     \"size\": {\"h\": 14, \"w\": 21, \"uom\": \"cm\"}},\n",
    "    {\"item\": \"mat\",\n",
    "     \"qty\": 85,\n",
    "     \"tags\": [\"gray\"],\n",
    "     \"size\": {\"h\": 27.9, \"w\": 35.5, \"uom\": \"cm\"}},\n",
    "    {\"item\": \"mousepad\",\n",
    "     \"qty\": 25,\n",
    "     \"tags\": [\"gel\", \"blue\"],\n",
    "     \"size\": {\"h\": 19, \"w\": 22.85, \"uom\": \"cm\"}}])\n",
    "\n",
    "cursor = db.inventory.find()\n",
    "print_cursor(cursor)"
   ]
  },
  {
   "cell_type": "markdown",
   "id": "0980973f",
   "metadata": {},
   "source": [
    "---\n",
    "# Query Documents"
   ]
  },
  {
   "cell_type": "code",
   "execution_count": 8,
   "id": "c5b4ef83",
   "metadata": {},
   "outputs": [],
   "source": [
    "client.drop_database(\"local\")"
   ]
  },
  {
   "cell_type": "code",
   "execution_count": 9,
   "id": "1a1d3b2b",
   "metadata": {},
   "outputs": [
    {
     "data": {
      "text/plain": [
       "<pymongo.results.InsertManyResult at 0x1aa8650bac0>"
      ]
     },
     "execution_count": 9,
     "metadata": {},
     "output_type": "execute_result"
    }
   ],
   "source": [
    "db.inventory.insert_many([\n",
    "    { \"item\": \"journal\", \"qty\": 25, \"size\": { \"h\": 14, \"w\": 21, \"uom\": \"cm\" }, \"status\": \"A\" },\n",
    "    { \"item\": \"notebook\", \"qty\": 50, \"size\": { \"h\": 8.5, \"w\": 11, \"uom\": \"in\" }, \"status\": \"A\" },\n",
    "    { \"item\": \"paper\", \"qty\": 100, \"size\": { \"h\": 8.5, \"w\": 11, \"uom\": \"in\" }, \"status\": \"D\" },\n",
    "    { \"item\": \"planner\", \"qty\": 75, \"size\": { \"h\": 22.85, \"w\": 30, \"uom\": \"cm\" }, \"status\": \"D\" },\n",
    "    { \"item\": \"postcard\", \"qty\": 45, \"size\": { \"h\": 10, \"w\": 15.25, \"uom\": \"cm\" }, \"status\": \"A\" }\n",
    "])"
   ]
  },
  {
   "cell_type": "markdown",
   "id": "5ebb69ff",
   "metadata": {},
   "source": [
    "## Select All Documents in a Collection"
   ]
  },
  {
   "cell_type": "code",
   "execution_count": 10,
   "id": "d8c30d0a",
   "metadata": {},
   "outputs": [
    {
     "name": "stdout",
     "output_type": "stream",
     "text": [
      "{'_id': ObjectId('620c2853a2059b416e5449e8'), 'item': 'journal', 'qty': 25, 'size': {'h': 14, 'w': 21, 'uom': 'cm'}, 'status': 'A'}\n",
      "{'_id': ObjectId('620c2853a2059b416e5449e9'), 'item': 'notebook', 'qty': 50, 'size': {'h': 8.5, 'w': 11, 'uom': 'in'}, 'status': 'A'}\n",
      "{'_id': ObjectId('620c2853a2059b416e5449ea'), 'item': 'paper', 'qty': 100, 'size': {'h': 8.5, 'w': 11, 'uom': 'in'}, 'status': 'D'}\n",
      "{'_id': ObjectId('620c2853a2059b416e5449eb'), 'item': 'planner', 'qty': 75, 'size': {'h': 22.85, 'w': 30, 'uom': 'cm'}, 'status': 'D'}\n",
      "{'_id': ObjectId('620c2853a2059b416e5449ec'), 'item': 'postcard', 'qty': 45, 'size': {'h': 10, 'w': 15.25, 'uom': 'cm'}, 'status': 'A'}\n"
     ]
    }
   ],
   "source": [
    "cursor=db.inventory.find()\n",
    "print_cursor(cursor)"
   ]
  },
  {
   "cell_type": "markdown",
   "id": "b3fcfbb8",
   "metadata": {},
   "source": [
    "## Specify Equality Condition"
   ]
  },
  {
   "cell_type": "code",
   "execution_count": 11,
   "id": "43c38687",
   "metadata": {},
   "outputs": [
    {
     "name": "stdout",
     "output_type": "stream",
     "text": [
      "{'_id': ObjectId('620c2853a2059b416e5449ea'), 'item': 'paper', 'qty': 100, 'size': {'h': 8.5, 'w': 11, 'uom': 'in'}, 'status': 'D'}\n",
      "{'_id': ObjectId('620c2853a2059b416e5449eb'), 'item': 'planner', 'qty': 75, 'size': {'h': 22.85, 'w': 30, 'uom': 'cm'}, 'status': 'D'}\n"
     ]
    }
   ],
   "source": [
    "cursor=db.inventory.find({'status':'D'})\n",
    "print_cursor(cursor)"
   ]
  },
  {
   "cell_type": "markdown",
   "id": "c9bf5904",
   "metadata": {},
   "source": [
    "## Specify Conditions Using Query Operators"
   ]
  },
  {
   "cell_type": "code",
   "execution_count": 12,
   "id": "102ede28",
   "metadata": {},
   "outputs": [
    {
     "name": "stdout",
     "output_type": "stream",
     "text": [
      "{'_id': ObjectId('620c2853a2059b416e5449e8'), 'item': 'journal', 'qty': 25, 'size': {'h': 14, 'w': 21, 'uom': 'cm'}, 'status': 'A'}\n",
      "{'_id': ObjectId('620c2853a2059b416e5449e9'), 'item': 'notebook', 'qty': 50, 'size': {'h': 8.5, 'w': 11, 'uom': 'in'}, 'status': 'A'}\n",
      "{'_id': ObjectId('620c2853a2059b416e5449ea'), 'item': 'paper', 'qty': 100, 'size': {'h': 8.5, 'w': 11, 'uom': 'in'}, 'status': 'D'}\n",
      "{'_id': ObjectId('620c2853a2059b416e5449eb'), 'item': 'planner', 'qty': 75, 'size': {'h': 22.85, 'w': 30, 'uom': 'cm'}, 'status': 'D'}\n",
      "{'_id': ObjectId('620c2853a2059b416e5449ec'), 'item': 'postcard', 'qty': 45, 'size': {'h': 10, 'w': 15.25, 'uom': 'cm'}, 'status': 'A'}\n"
     ]
    }
   ],
   "source": [
    "cursor=db.inventory.find({'status':{\"$in\":[\"A\",\"D\"]}})\n",
    "print_cursor(cursor)"
   ]
  },
  {
   "cell_type": "markdown",
   "id": "a3e2039f",
   "metadata": {},
   "source": [
    "## Specify AND Conditions"
   ]
  },
  {
   "cell_type": "code",
   "execution_count": 13,
   "id": "a76aa53a",
   "metadata": {},
   "outputs": [
    {
     "name": "stdout",
     "output_type": "stream",
     "text": [
      "{'_id': ObjectId('620c2853a2059b416e5449eb'), 'item': 'planner', 'qty': 75, 'size': {'h': 22.85, 'w': 30, 'uom': 'cm'}, 'status': 'D'}\n"
     ]
    }
   ],
   "source": [
    "cursor=db.inventory.find({'status':\"D\",\"qty\":{\"$lt\":100}})\n",
    "print_cursor(cursor)"
   ]
  },
  {
   "cell_type": "markdown",
   "id": "d3ab4ccf",
   "metadata": {},
   "source": [
    "## Specify OR Conditions"
   ]
  },
  {
   "cell_type": "code",
   "execution_count": 14,
   "id": "b7ba57a1",
   "metadata": {},
   "outputs": [
    {
     "name": "stdout",
     "output_type": "stream",
     "text": [
      "{'_id': ObjectId('620c2853a2059b416e5449e8'), 'item': 'journal', 'qty': 25, 'size': {'h': 14, 'w': 21, 'uom': 'cm'}, 'status': 'A'}\n",
      "{'_id': ObjectId('620c2853a2059b416e5449e9'), 'item': 'notebook', 'qty': 50, 'size': {'h': 8.5, 'w': 11, 'uom': 'in'}, 'status': 'A'}\n",
      "{'_id': ObjectId('620c2853a2059b416e5449eb'), 'item': 'planner', 'qty': 75, 'size': {'h': 22.85, 'w': 30, 'uom': 'cm'}, 'status': 'D'}\n",
      "{'_id': ObjectId('620c2853a2059b416e5449ec'), 'item': 'postcard', 'qty': 45, 'size': {'h': 10, 'w': 15.25, 'uom': 'cm'}, 'status': 'A'}\n"
     ]
    }
   ],
   "source": [
    "cursor=db.inventory.find({\"$or\":[{'item':\"planner\"},{\"qty\":{\"$lt\":100}}]})\n",
    "print_cursor(cursor)"
   ]
  },
  {
   "cell_type": "markdown",
   "id": "2e5c7002",
   "metadata": {},
   "source": [
    "## Specify AND as well as OR Conditions"
   ]
  },
  {
   "cell_type": "code",
   "execution_count": 15,
   "id": "28765a59",
   "metadata": {},
   "outputs": [
    {
     "name": "stdout",
     "output_type": "stream",
     "text": [
      "{'_id': ObjectId('620c2853a2059b416e5449eb'), 'item': 'planner', 'qty': 75, 'size': {'h': 22.85, 'w': 30, 'uom': 'cm'}, 'status': 'D'}\n"
     ]
    }
   ],
   "source": [
    "cursor=db.inventory.find({\"status\":\"D\",\"$or\":[{\"qty\":{\"$lt\":100}},{'item':{\"$regex\":\"^j\"}}]})\n",
    "print_cursor(cursor)"
   ]
  },
  {
   "cell_type": "markdown",
   "id": "9080b917",
   "metadata": {},
   "source": [
    "---\n",
    "# Query on Embedded/Nested Documents"
   ]
  },
  {
   "cell_type": "code",
   "execution_count": 16,
   "id": "580c2ec7",
   "metadata": {},
   "outputs": [],
   "source": [
    "client.drop_database(\"local\")"
   ]
  },
  {
   "cell_type": "markdown",
   "id": "41f2cd7d",
   "metadata": {},
   "source": [
    "## Match an Embedded/Nested Document"
   ]
  },
  {
   "cell_type": "code",
   "execution_count": 17,
   "id": "c56ef0f3",
   "metadata": {},
   "outputs": [
    {
     "data": {
      "text/plain": [
       "<pymongo.results.InsertManyResult at 0x1aa8651ec40>"
      ]
     },
     "execution_count": 17,
     "metadata": {},
     "output_type": "execute_result"
    }
   ],
   "source": [
    "from bson.son import SON\n",
    "db.inventory.insert_many([\n",
    "    {\"item\": \"journal\",\n",
    "     \"qty\": 25,\n",
    "     \"tags\": [\"blank\", \"red\"],\n",
    "     \"size\":SON([(\"h\",30.5), (\"w\", 42.5), (\"uom\",\"cm\")]),\n",
    "                 \n",
    "                 } , \n",
    "    \n",
    "    {\"item\": \"mat\",\n",
    "     \"qty\": 85,\n",
    "     \"tags\": [\"gray\"],\n",
    "     \"size\": SON([(\"h\", 27.9), (\"w\", 35.5), (\"uom\", \"cm\")]),\n",
    "    },\n",
    "    {\"item\": \"mousepad\",\n",
    "     \"qty\": 25,\n",
    "     \"tags\": [\"gel\", \"blue\"],\n",
    "     \"size\": SON([(\"h\", 19), (\"w\",22.85), (\"uom\",\"cm\")]),\n",
    "    },\n",
    "     {\"item\": \"planner\",\n",
    "     \"qty\": 25,\n",
    "     \"tags\": [\"gel\", \"green\"],\n",
    "     \"size\": SON([(\"h\",20), (\"w\",40), (\"uom\",\"in\")]),\n",
    "     }\n",
    "                 ])"
   ]
  },
  {
   "cell_type": "code",
   "execution_count": 18,
   "id": "b1c658e8",
   "metadata": {},
   "outputs": [
    {
     "name": "stdout",
     "output_type": "stream",
     "text": [
      "{'_id': ObjectId('620c2853a2059b416e5449ef'), 'item': 'mousepad', 'qty': 25, 'tags': ['gel', 'blue'], 'size': {'h': 19, 'w': 22.85, 'uom': 'cm'}}\n"
     ]
    }
   ],
   "source": [
    "cursor=db.inventory.find({\"size\": SON([(\"h\", 19), (\"w\",22.85), (\"uom\",\"cm\")])})\n",
    "print_cursor(cursor)"
   ]
  },
  {
   "cell_type": "markdown",
   "id": "5b9cb45d",
   "metadata": {},
   "source": [
    "## Query on Nested Field"
   ]
  },
  {
   "cell_type": "markdown",
   "id": "9701c793",
   "metadata": {},
   "source": [
    "### Specify Equality Match on a Nested Field"
   ]
  },
  {
   "cell_type": "code",
   "execution_count": 19,
   "id": "d8b44733",
   "metadata": {},
   "outputs": [
    {
     "name": "stdout",
     "output_type": "stream",
     "text": [
      "{'_id': ObjectId('620c2853a2059b416e5449f0'), 'item': 'planner', 'qty': 25, 'tags': ['gel', 'green'], 'size': {'h': 20, 'w': 40, 'uom': 'in'}}\n"
     ]
    }
   ],
   "source": [
    "cursor=db.inventory.find({\"size.uom\":\"in\"})\n",
    "print_cursor(cursor)"
   ]
  },
  {
   "cell_type": "markdown",
   "id": "833f5642",
   "metadata": {},
   "source": [
    "### Specify Match using Query Operator"
   ]
  },
  {
   "cell_type": "code",
   "execution_count": 20,
   "id": "5af4fd89",
   "metadata": {},
   "outputs": [
    {
     "name": "stdout",
     "output_type": "stream",
     "text": [
      "{'_id': ObjectId('620c2853a2059b416e5449ef'), 'item': 'mousepad', 'qty': 25, 'tags': ['gel', 'blue'], 'size': {'h': 19, 'w': 22.85, 'uom': 'cm'}}\n"
     ]
    }
   ],
   "source": [
    "cursor=db.inventory.find({\"size.w\":{\"$lt\":30}})\n",
    "print_cursor(cursor)"
   ]
  },
  {
   "cell_type": "markdown",
   "id": "8cd74a23",
   "metadata": {},
   "source": [
    "### Specify AND Condition"
   ]
  },
  {
   "cell_type": "code",
   "execution_count": 21,
   "id": "2257765d",
   "metadata": {},
   "outputs": [],
   "source": [
    "cursor=db.inventory.find({\"size.h\":{\"$lt\":25},\"size.uom\":\"cm\",\"status\":\"A\"})\n",
    "print_cursor(cursor)"
   ]
  },
  {
   "cell_type": "markdown",
   "id": "a87d0d06",
   "metadata": {},
   "source": [
    "---\n",
    "# Query an Array\n"
   ]
  },
  {
   "cell_type": "code",
   "execution_count": 22,
   "id": "a750688d",
   "metadata": {},
   "outputs": [
    {
     "data": {
      "text/plain": [
       "<pymongo.results.InsertManyResult at 0x1aa86538fc0>"
      ]
     },
     "execution_count": 22,
     "metadata": {},
     "output_type": "execute_result"
    }
   ],
   "source": [
    "client.drop_database(\"local\")\n",
    "db.inventory.insert_many(\n",
    "    [\n",
    "        {\"item\": \"journal\", \"qty\": 40, \"tags\": [\"blank\", \"blue\"], \"dim_cm\": [14, 21]},\n",
    "        {\"item\": \"notebook\", \"qty\": 50, \"tags\": [\"blue\", \"blank\"], \"dim_cm\": [14, 21]},\n",
    "        {\n",
    "            \"item\": \"paper\",\n",
    "            \"qty\": 100,\n",
    "            \"tags\": [\"green\", \"blank\", \"plain\"],\n",
    "            \"dim_cm\": [14, 21],\n",
    "        },\n",
    "        {\"item\": \"planner\", \"qty\": 75, \"tags\": [\"blank\", \"red\"], \"dim_cm\": [22.85, 30]},\n",
    "        {\"item\": \"postcard\", \"qty\": 45, \"tags\": [\"blue\"], \"dim_cm\": [10, 15.25]},\n",
    "    ]\n",
    ")"
   ]
  },
  {
   "cell_type": "markdown",
   "id": "943811d0",
   "metadata": {},
   "source": [
    "## Match an Array"
   ]
  },
  {
   "cell_type": "code",
   "execution_count": 23,
   "id": "bb7443ba",
   "metadata": {},
   "outputs": [
    {
     "name": "stdout",
     "output_type": "stream",
     "text": [
      "{'_id': ObjectId('620c2853a2059b416e5449f1'), 'item': 'journal', 'qty': 40, 'tags': ['blank', 'blue'], 'dim_cm': [14, 21]}\n"
     ]
    }
   ],
   "source": [
    "cursor=db.inventory.find({\"tags\":[\"blank\",\"blue\"]})\n",
    "print_cursor(cursor)"
   ]
  },
  {
   "cell_type": "code",
   "execution_count": 24,
   "id": "7d37fe77",
   "metadata": {},
   "outputs": [
    {
     "name": "stdout",
     "output_type": "stream",
     "text": [
      "{'_id': ObjectId('620c2853a2059b416e5449f1'), 'item': 'journal', 'qty': 40, 'tags': ['blank', 'blue'], 'dim_cm': [14, 21]}\n",
      "{'_id': ObjectId('620c2853a2059b416e5449f2'), 'item': 'notebook', 'qty': 50, 'tags': ['blue', 'blank'], 'dim_cm': [14, 21]}\n"
     ]
    }
   ],
   "source": [
    "cursor=db.inventory.find({\"tags\" : {\"$all\":[ \"blank\", \"blue\"]}})\n",
    "print_cursor(cursor)"
   ]
  },
  {
   "cell_type": "markdown",
   "id": "f901db1d",
   "metadata": {},
   "source": [
    "## Query an Array for an Element"
   ]
  },
  {
   "cell_type": "code",
   "execution_count": 25,
   "id": "b5b42556",
   "metadata": {},
   "outputs": [
    {
     "name": "stdout",
     "output_type": "stream",
     "text": [
      "{'_id': ObjectId('620c2853a2059b416e5449f1'), 'item': 'journal', 'qty': 40, 'tags': ['blank', 'blue'], 'dim_cm': [14, 21]}\n",
      "{'_id': ObjectId('620c2853a2059b416e5449f2'), 'item': 'notebook', 'qty': 50, 'tags': ['blue', 'blank'], 'dim_cm': [14, 21]}\n",
      "{'_id': ObjectId('620c2853a2059b416e5449f5'), 'item': 'postcard', 'qty': 45, 'tags': ['blue'], 'dim_cm': [10, 15.25]}\n"
     ]
    }
   ],
   "source": [
    "cursor=db.inventory.find({\"tags\":\"blue\"})\n",
    "print_cursor(cursor)"
   ]
  },
  {
   "cell_type": "code",
   "execution_count": 26,
   "id": "2cf41f56",
   "metadata": {},
   "outputs": [
    {
     "name": "stdout",
     "output_type": "stream",
     "text": [
      "{'_id': ObjectId('620c2853a2059b416e5449f1'), 'item': 'journal', 'qty': 40, 'tags': ['blank', 'blue'], 'dim_cm': [14, 21]}\n",
      "{'_id': ObjectId('620c2853a2059b416e5449f2'), 'item': 'notebook', 'qty': 50, 'tags': ['blue', 'blank'], 'dim_cm': [14, 21]}\n",
      "{'_id': ObjectId('620c2853a2059b416e5449f3'), 'item': 'paper', 'qty': 100, 'tags': ['green', 'blank', 'plain'], 'dim_cm': [14, 21]}\n",
      "{'_id': ObjectId('620c2853a2059b416e5449f4'), 'item': 'planner', 'qty': 75, 'tags': ['blank', 'red'], 'dim_cm': [22.85, 30]}\n",
      "{'_id': ObjectId('620c2853a2059b416e5449f5'), 'item': 'postcard', 'qty': 45, 'tags': ['blue'], 'dim_cm': [10, 15.25]}\n"
     ]
    }
   ],
   "source": [
    "cursor=db.inventory.find({\"dim_cm\":{\"$gt\":14}})\n",
    "print_cursor(cursor)"
   ]
  },
  {
   "cell_type": "markdown",
   "id": "8ebaf80e",
   "metadata": {},
   "source": [
    "## Query an Array for an Element\n",
    "### Query an Array with Compound Filter Conditions on the Array Elements"
   ]
  },
  {
   "cell_type": "code",
   "execution_count": 27,
   "id": "ff6e675a",
   "metadata": {},
   "outputs": [
    {
     "name": "stdout",
     "output_type": "stream",
     "text": [
      "{'_id': ObjectId('620c2853a2059b416e5449f1'), 'item': 'journal', 'qty': 40, 'tags': ['blank', 'blue'], 'dim_cm': [14, 21]}\n",
      "{'_id': ObjectId('620c2853a2059b416e5449f2'), 'item': 'notebook', 'qty': 50, 'tags': ['blue', 'blank'], 'dim_cm': [14, 21]}\n",
      "{'_id': ObjectId('620c2853a2059b416e5449f3'), 'item': 'paper', 'qty': 100, 'tags': ['green', 'blank', 'plain'], 'dim_cm': [14, 21]}\n",
      "{'_id': ObjectId('620c2853a2059b416e5449f5'), 'item': 'postcard', 'qty': 45, 'tags': ['blue'], 'dim_cm': [10, 15.25]}\n"
     ]
    }
   ],
   "source": [
    "cursor=db.inventory.find({\"dim_cm\":{\"$gt\":15,\"$lt\":20}})\n",
    "print_cursor(cursor)"
   ]
  },
  {
   "cell_type": "markdown",
   "id": "1b5796ef",
   "metadata": {},
   "source": [
    "### Query for an Array Element that Meets Multiple Criteria"
   ]
  },
  {
   "cell_type": "code",
   "execution_count": 28,
   "id": "bcf12269",
   "metadata": {},
   "outputs": [
    {
     "name": "stdout",
     "output_type": "stream",
     "text": [
      "{'_id': ObjectId('620c2853a2059b416e5449f1'), 'item': 'journal', 'qty': 40, 'tags': ['blank', 'blue'], 'dim_cm': [14, 21]}\n",
      "{'_id': ObjectId('620c2853a2059b416e5449f2'), 'item': 'notebook', 'qty': 50, 'tags': ['blue', 'blank'], 'dim_cm': [14, 21]}\n",
      "{'_id': ObjectId('620c2853a2059b416e5449f3'), 'item': 'paper', 'qty': 100, 'tags': ['green', 'blank', 'plain'], 'dim_cm': [14, 21]}\n",
      "{'_id': ObjectId('620c2853a2059b416e5449f4'), 'item': 'planner', 'qty': 75, 'tags': ['blank', 'red'], 'dim_cm': [22.85, 30]}\n",
      "{'_id': ObjectId('620c2853a2059b416e5449f5'), 'item': 'postcard', 'qty': 45, 'tags': ['blue'], 'dim_cm': [10, 15.25]}\n"
     ]
    }
   ],
   "source": [
    "cursor= db.inventory.find({\"dim_cm\":{\"$elemMatch\":{\"$gt\":15,\"$lt\":25}}})\n",
    "print_cursor(cursor)"
   ]
  },
  {
   "cell_type": "markdown",
   "id": "a7c93571",
   "metadata": {},
   "source": [
    "### Query for an Element by the Array Index Position"
   ]
  },
  {
   "cell_type": "code",
   "execution_count": 29,
   "id": "1d554838",
   "metadata": {},
   "outputs": [
    {
     "name": "stdout",
     "output_type": "stream",
     "text": [
      "{'_id': ObjectId('620c2853a2059b416e5449f4'), 'item': 'planner', 'qty': 75, 'tags': ['blank', 'red'], 'dim_cm': [22.85, 30]}\n"
     ]
    }
   ],
   "source": [
    "cursor= db.inventory.find({\"dim_cm.1\":{\"$gt\":25}})\n",
    "print_cursor(cursor)"
   ]
  },
  {
   "cell_type": "markdown",
   "id": "72a72b49",
   "metadata": {},
   "source": [
    "### Query an Array by Array Length"
   ]
  },
  {
   "cell_type": "code",
   "execution_count": 30,
   "id": "8c446e46",
   "metadata": {},
   "outputs": [
    {
     "name": "stdout",
     "output_type": "stream",
     "text": [
      "{'_id': ObjectId('620c2853a2059b416e5449f3'), 'item': 'paper', 'qty': 100, 'tags': ['green', 'blank', 'plain'], 'dim_cm': [14, 21]}\n"
     ]
    }
   ],
   "source": [
    "cursor = db.inventory.find({\"tags\": {\"$size\": 3}})\n",
    "print_cursor(cursor)"
   ]
  },
  {
   "cell_type": "markdown",
   "id": "e40f45e1",
   "metadata": {},
   "source": [
    "---\n",
    "# Query an Array of Embedded Documents"
   ]
  },
  {
   "cell_type": "code",
   "execution_count": 31,
   "id": "cb6cab03",
   "metadata": {},
   "outputs": [],
   "source": [
    "client.drop_database(\"local\")"
   ]
  },
  {
   "cell_type": "markdown",
   "id": "824e8dd4",
   "metadata": {},
   "source": [
    "## Query for a Document Nested in an Array"
   ]
  },
  {
   "cell_type": "code",
   "execution_count": 32,
   "id": "10f32fb7",
   "metadata": {},
   "outputs": [
    {
     "data": {
      "text/plain": [
       "<pymongo.results.InsertManyResult at 0x1aa865449c0>"
      ]
     },
     "execution_count": 32,
     "metadata": {},
     "output_type": "execute_result"
    }
   ],
   "source": [
    "db.inventory.insert_many(\n",
    "    [\n",
    "        {\n",
    "            \"item\": \"journal\",\n",
    "            \"instock\": [\n",
    "                SON([(\"warehouse\", \"A\"), (\"qty\", 5)]),\n",
    "                SON([(\"warehouse\", \"C\"), (\"qty\", 15)]),\n",
    "            ],\n",
    "        },\n",
    "        {\"item\": \"notebook\", \"instock\": [SON([(\"warehouse\", \"C\"), (\"qty\", 5)])]},\n",
    "        {\n",
    "            \"item\": \"paper\",\n",
    "            \"instock\": [\n",
    "                SON([(\"warehouse\", \"A\"), (\"qty\", 60)]),\n",
    "                SON([(\"warehouse\", \"B\"), (\"qty\", 15)]),\n",
    "            ],\n",
    "        },\n",
    "        {\n",
    "            \"item\": \"planner\",\n",
    "            \"instock\": [\n",
    "                SON([(\"warehouse\", \"A\"), (\"qty\", 40)]),\n",
    "                SON([(\"warehouse\", \"B\"), (\"qty\", 5)]),\n",
    "            ],\n",
    "        },\n",
    "        {\n",
    "            \"item\": \"postcard\",\n",
    "            \"instock\": [\n",
    "                SON([(\"warehouse\", \"B\"), (\"qty\", 15)]),\n",
    "                SON([(\"warehouse\", \"C\"), (\"qty\", 35)]),\n",
    "            ],\n",
    "        },\n",
    "    ]\n",
    ")"
   ]
  },
  {
   "cell_type": "markdown",
   "id": "d44081cc",
   "metadata": {},
   "source": [
    "## Specify a Query Condition on a Field in an Array of Documents"
   ]
  },
  {
   "cell_type": "code",
   "execution_count": 33,
   "id": "7fa85ab8",
   "metadata": {},
   "outputs": [
    {
     "name": "stdout",
     "output_type": "stream",
     "text": [
      "{'_id': ObjectId('620c2853a2059b416e5449f8'), 'item': 'paper', 'instock': [{'warehouse': 'A', 'qty': 60}, {'warehouse': 'B', 'qty': 15}]}\n",
      "{'_id': ObjectId('620c2853a2059b416e5449fa'), 'item': 'postcard', 'instock': [{'warehouse': 'B', 'qty': 15}, {'warehouse': 'C', 'qty': 35}]}\n"
     ]
    }
   ],
   "source": [
    "cursor=db.inventory.find({\"instock\":SON([(\"warehouse\", \"B\"), (\"qty\", 15)])})\n",
    "print_cursor(cursor)"
   ]
  },
  {
   "cell_type": "code",
   "execution_count": 34,
   "id": "967eb889",
   "metadata": {},
   "outputs": [],
   "source": [
    "cursor=db.inventory.find({\"instock\":SON([(\"qty\",20),(\"warehouse\",\"A\")])})\n",
    "print_cursor(cursor)"
   ]
  },
  {
   "cell_type": "markdown",
   "id": "2e735bf2",
   "metadata": {},
   "source": [
    "### Specify a Query Condition on a Field Embedded in an Array of Documents"
   ]
  },
  {
   "cell_type": "code",
   "execution_count": 35,
   "id": "d55e1dd1",
   "metadata": {},
   "outputs": [
    {
     "name": "stdout",
     "output_type": "stream",
     "text": [
      "{'_id': ObjectId('620c2853a2059b416e5449f6'), 'item': 'journal', 'instock': [{'warehouse': 'A', 'qty': 5}, {'warehouse': 'C', 'qty': 15}]}\n",
      "{'_id': ObjectId('620c2853a2059b416e5449f7'), 'item': 'notebook', 'instock': [{'warehouse': 'C', 'qty': 5}]}\n",
      "{'_id': ObjectId('620c2853a2059b416e5449f9'), 'item': 'planner', 'instock': [{'warehouse': 'A', 'qty': 40}, {'warehouse': 'B', 'qty': 5}]}\n"
     ]
    }
   ],
   "source": [
    "cursor = db.inventory.find({\"instock.qty\": {\"$lte\": 10}})\n",
    "print_cursor(cursor)"
   ]
  },
  {
   "cell_type": "markdown",
   "id": "08b3e285",
   "metadata": {},
   "source": [
    "### Use the Array Index to Query for a Field in the Embedded Document"
   ]
  },
  {
   "cell_type": "code",
   "execution_count": 36,
   "id": "9fd17673",
   "metadata": {},
   "outputs": [
    {
     "name": "stdout",
     "output_type": "stream",
     "text": [
      "{'_id': ObjectId('620c2853a2059b416e5449f6'), 'item': 'journal', 'instock': [{'warehouse': 'A', 'qty': 5}, {'warehouse': 'C', 'qty': 15}]}\n",
      "{'_id': ObjectId('620c2853a2059b416e5449f7'), 'item': 'notebook', 'instock': [{'warehouse': 'C', 'qty': 5}]}\n",
      "{'_id': ObjectId('620c2853a2059b416e5449fa'), 'item': 'postcard', 'instock': [{'warehouse': 'B', 'qty': 15}, {'warehouse': 'C', 'qty': 35}]}\n"
     ]
    }
   ],
   "source": [
    "cursor = db.inventory.find({\"instock.0.qty\": {\"$lte\": 20}})\n",
    "print_cursor(cursor)"
   ]
  },
  {
   "cell_type": "markdown",
   "id": "eb2ad87c",
   "metadata": {},
   "source": [
    "## Specify Multiple Conditions for Array of Documents"
   ]
  },
  {
   "cell_type": "markdown",
   "id": "cbdc67e8",
   "metadata": {},
   "source": [
    "### A Single Nested Document Meets Multiple Query Conditions on Nested Fields"
   ]
  },
  {
   "cell_type": "code",
   "execution_count": 37,
   "id": "da9e2463",
   "metadata": {},
   "outputs": [
    {
     "name": "stdout",
     "output_type": "stream",
     "text": [
      "{'_id': ObjectId('620c2853a2059b416e5449f6'), 'item': 'journal', 'instock': [{'warehouse': 'A', 'qty': 5}, {'warehouse': 'C', 'qty': 15}]}\n"
     ]
    }
   ],
   "source": [
    "cursor = db.inventory.find({\"instock\": {\"$elemMatch\": {\"qty\": 5, \"warehouse\": \"A\"}}})\n",
    "print_cursor(cursor)"
   ]
  },
  {
   "cell_type": "code",
   "execution_count": 38,
   "id": "96031d4d",
   "metadata": {},
   "outputs": [
    {
     "name": "stdout",
     "output_type": "stream",
     "text": [
      "{'_id': ObjectId('620c2853a2059b416e5449f6'), 'item': 'journal', 'instock': [{'warehouse': 'A', 'qty': 5}, {'warehouse': 'C', 'qty': 15}]}\n",
      "{'_id': ObjectId('620c2853a2059b416e5449f8'), 'item': 'paper', 'instock': [{'warehouse': 'A', 'qty': 60}, {'warehouse': 'B', 'qty': 15}]}\n",
      "{'_id': ObjectId('620c2853a2059b416e5449fa'), 'item': 'postcard', 'instock': [{'warehouse': 'B', 'qty': 15}, {'warehouse': 'C', 'qty': 35}]}\n"
     ]
    }
   ],
   "source": [
    "cursor = db.inventory.find({\"instock\": {\"$elemMatch\": {\"qty\": {\"$gt\": 10, \"$lte\": 20}}}})\n",
    "print_cursor(cursor)"
   ]
  },
  {
   "cell_type": "markdown",
   "id": "676eb233",
   "metadata": {},
   "source": [
    "### Combination of Elements Satisfies the Criteria"
   ]
  },
  {
   "cell_type": "code",
   "execution_count": 39,
   "id": "f444d346",
   "metadata": {},
   "outputs": [
    {
     "name": "stdout",
     "output_type": "stream",
     "text": [
      "{'_id': ObjectId('620c2853a2059b416e5449f6'), 'item': 'journal', 'instock': [{'warehouse': 'A', 'qty': 5}, {'warehouse': 'C', 'qty': 15}]}\n",
      "{'_id': ObjectId('620c2853a2059b416e5449f8'), 'item': 'paper', 'instock': [{'warehouse': 'A', 'qty': 60}, {'warehouse': 'B', 'qty': 15}]}\n",
      "{'_id': ObjectId('620c2853a2059b416e5449f9'), 'item': 'planner', 'instock': [{'warehouse': 'A', 'qty': 40}, {'warehouse': 'B', 'qty': 5}]}\n",
      "{'_id': ObjectId('620c2853a2059b416e5449fa'), 'item': 'postcard', 'instock': [{'warehouse': 'B', 'qty': 15}, {'warehouse': 'C', 'qty': 35}]}\n"
     ]
    }
   ],
   "source": [
    "cursor = db.inventory.find({\"instock.qty\": {\"$gt\": 10, \"$lte\": 20}})\n",
    "print_cursor(cursor)"
   ]
  },
  {
   "cell_type": "code",
   "execution_count": 40,
   "id": "b8530495",
   "metadata": {},
   "outputs": [
    {
     "name": "stdout",
     "output_type": "stream",
     "text": [
      "{'_id': ObjectId('620c2853a2059b416e5449f6'), 'item': 'journal', 'instock': [{'warehouse': 'A', 'qty': 5}, {'warehouse': 'C', 'qty': 15}]}\n",
      "{'_id': ObjectId('620c2853a2059b416e5449f9'), 'item': 'planner', 'instock': [{'warehouse': 'A', 'qty': 40}, {'warehouse': 'B', 'qty': 5}]}\n"
     ]
    }
   ],
   "source": [
    "cursor = db.inventory.find({\"instock.qty\": 5, \"instock.warehouse\": \"A\"})\n",
    "print_cursor(cursor)\n"
   ]
  },
  {
   "cell_type": "markdown",
   "id": "9d62265a",
   "metadata": {},
   "source": [
    "---\n",
    "# Project Fields to Return from Query"
   ]
  },
  {
   "cell_type": "code",
   "execution_count": 41,
   "id": "436335c7",
   "metadata": {},
   "outputs": [],
   "source": [
    "client.drop_database(\"local\")"
   ]
  },
  {
   "cell_type": "code",
   "execution_count": 42,
   "id": "98b046c0",
   "metadata": {},
   "outputs": [
    {
     "data": {
      "text/plain": [
       "<pymongo.results.InsertManyResult at 0x1aa86529f00>"
      ]
     },
     "execution_count": 42,
     "metadata": {},
     "output_type": "execute_result"
    }
   ],
   "source": [
    "db.inventory.insert_many([\n",
    "    {\"item\": \"journal\",\n",
    "     \"status\": \"A\",\n",
    "     \"size\": {\"h\": 14, \"w\": 21, \"uom\": \"cm\"},\n",
    "     \"instock\": [{\"warehouse\": \"A\", \"qty\": 5}]},\n",
    "    {\"item\": \"notebook\",\n",
    "     \"status\": \"A\",\n",
    "     \"size\": {\"h\": 8.5, \"w\": 11, \"uom\": \"in\"},\n",
    "     \"instock\": [{\"warehouse\": \"C\", \"qty\": 5}]},\n",
    "    {\"item\": \"paper\",\n",
    "     \"status\": \"D\",\n",
    "     \"size\": {\"h\": 8.5, \"w\": 11, \"uom\": \"in\"},\n",
    "     \"instock\": [{\"warehouse\": \"A\", \"qty\": 60}]},\n",
    "    {\"item\": \"planner\",\n",
    "     \"status\": \"D\",\n",
    "     \"size\": {\"h\": 22.85, \"w\": 30, \"uom\": \"cm\"},\n",
    "     \"instock\": [{\"warehouse\": \"A\", \"qty\": 40}]},\n",
    "    {\"item\": \"postcard\",\n",
    "     \"status\": \"A\",\n",
    "     \"size\": {\"h\": 10, \"w\": 15.25, \"uom\": \"cm\"},\n",
    "     \"instock\": [\n",
    "         {\"warehouse\": \"B\", \"qty\": 15},\n",
    "         {\"warehouse\": \"C\", \"qty\": 35}]}])"
   ]
  },
  {
   "cell_type": "markdown",
   "id": "d9413be1",
   "metadata": {},
   "source": [
    "## Return All Fields in Matching Documents"
   ]
  },
  {
   "cell_type": "code",
   "execution_count": 43,
   "id": "71c9ef82",
   "metadata": {},
   "outputs": [
    {
     "name": "stdout",
     "output_type": "stream",
     "text": [
      "{'_id': ObjectId('620c2853a2059b416e5449fb'), 'item': 'journal', 'status': 'A', 'size': {'h': 14, 'w': 21, 'uom': 'cm'}, 'instock': [{'warehouse': 'A', 'qty': 5}]}\n",
      "{'_id': ObjectId('620c2853a2059b416e5449fc'), 'item': 'notebook', 'status': 'A', 'size': {'h': 8.5, 'w': 11, 'uom': 'in'}, 'instock': [{'warehouse': 'C', 'qty': 5}]}\n",
      "{'_id': ObjectId('620c2853a2059b416e5449ff'), 'item': 'postcard', 'status': 'A', 'size': {'h': 10, 'w': 15.25, 'uom': 'cm'}, 'instock': [{'warehouse': 'B', 'qty': 15}, {'warehouse': 'C', 'qty': 35}]}\n"
     ]
    }
   ],
   "source": [
    "cursor = db.inventory.find({\"status\": \"A\"})\n",
    "print_cursor(cursor)"
   ]
  },
  {
   "cell_type": "markdown",
   "id": "3d76c42b",
   "metadata": {},
   "source": [
    "## Return the Specified Fields and the _id Field Only"
   ]
  },
  {
   "cell_type": "code",
   "execution_count": 44,
   "id": "4906baad",
   "metadata": {},
   "outputs": [
    {
     "name": "stdout",
     "output_type": "stream",
     "text": [
      "{'_id': ObjectId('620c2853a2059b416e5449fb'), 'item': 'journal', 'status': 'A'}\n",
      "{'_id': ObjectId('620c2853a2059b416e5449fc'), 'item': 'notebook', 'status': 'A'}\n",
      "{'_id': ObjectId('620c2853a2059b416e5449ff'), 'item': 'postcard', 'status': 'A'}\n"
     ]
    }
   ],
   "source": [
    "cursor = db.inventory.find({\"status\": \"A\"}, {\"item\": 1, \"status\": 1})\n",
    "print_cursor(cursor)"
   ]
  },
  {
   "cell_type": "markdown",
   "id": "304539e0",
   "metadata": {},
   "source": [
    "## Suppress _id Field"
   ]
  },
  {
   "cell_type": "code",
   "execution_count": 45,
   "id": "7bf22f0b",
   "metadata": {},
   "outputs": [
    {
     "name": "stdout",
     "output_type": "stream",
     "text": [
      "{'item': 'journal', 'status': 'A'}\n",
      "{'item': 'notebook', 'status': 'A'}\n",
      "{'item': 'postcard', 'status': 'A'}\n"
     ]
    }
   ],
   "source": [
    "cursor = db.inventory.find({\"status\": \"A\"}, {\"item\": 1, \"status\": 1, \"_id\": 0})\n",
    "print_cursor(cursor)"
   ]
  },
  {
   "cell_type": "markdown",
   "id": "67d4c4cc",
   "metadata": {},
   "source": [
    "## Return All But the Excluded Fields"
   ]
  },
  {
   "cell_type": "code",
   "execution_count": 46,
   "id": "1593e0ac",
   "metadata": {},
   "outputs": [
    {
     "name": "stdout",
     "output_type": "stream",
     "text": [
      "{'_id': ObjectId('620c2853a2059b416e5449fb'), 'item': 'journal', 'size': {'h': 14, 'w': 21, 'uom': 'cm'}}\n",
      "{'_id': ObjectId('620c2853a2059b416e5449fc'), 'item': 'notebook', 'size': {'h': 8.5, 'w': 11, 'uom': 'in'}}\n",
      "{'_id': ObjectId('620c2853a2059b416e5449ff'), 'item': 'postcard', 'size': {'h': 10, 'w': 15.25, 'uom': 'cm'}}\n"
     ]
    }
   ],
   "source": [
    "cursor = db.inventory.find({\"status\": \"A\"}, {\"status\": 0, \"instock\": 0})\n",
    "print_cursor(cursor)"
   ]
  },
  {
   "cell_type": "markdown",
   "id": "ee72c79e",
   "metadata": {},
   "source": [
    "## Return Specific Fields in Embedded Documents"
   ]
  },
  {
   "cell_type": "code",
   "execution_count": 47,
   "id": "a03bed81",
   "metadata": {},
   "outputs": [
    {
     "name": "stdout",
     "output_type": "stream",
     "text": [
      "{'_id': ObjectId('620c2853a2059b416e5449fb'), 'item': 'journal', 'status': 'A', 'size': {'uom': 'cm'}}\n",
      "{'_id': ObjectId('620c2853a2059b416e5449fc'), 'item': 'notebook', 'status': 'A', 'size': {'uom': 'in'}}\n",
      "{'_id': ObjectId('620c2853a2059b416e5449ff'), 'item': 'postcard', 'status': 'A', 'size': {'uom': 'cm'}}\n"
     ]
    }
   ],
   "source": [
    "cursor = db.inventory.find({\"status\": \"A\"}, {\"item\": 1, \"status\": 1, \"size.uom\": 1})\n",
    "print_cursor(cursor)"
   ]
  },
  {
   "cell_type": "markdown",
   "id": "489a4ac1",
   "metadata": {},
   "source": [
    "## Suppress Specific Fields in Embedded Documents"
   ]
  },
  {
   "cell_type": "code",
   "execution_count": 48,
   "id": "d455387f",
   "metadata": {},
   "outputs": [
    {
     "name": "stdout",
     "output_type": "stream",
     "text": [
      "{'_id': ObjectId('620c2853a2059b416e5449fb'), 'item': 'journal', 'status': 'A', 'size': {'h': 14, 'w': 21}, 'instock': [{'warehouse': 'A', 'qty': 5}]}\n",
      "{'_id': ObjectId('620c2853a2059b416e5449fc'), 'item': 'notebook', 'status': 'A', 'size': {'h': 8.5, 'w': 11}, 'instock': [{'warehouse': 'C', 'qty': 5}]}\n",
      "{'_id': ObjectId('620c2853a2059b416e5449ff'), 'item': 'postcard', 'status': 'A', 'size': {'h': 10, 'w': 15.25}, 'instock': [{'warehouse': 'B', 'qty': 15}, {'warehouse': 'C', 'qty': 35}]}\n"
     ]
    }
   ],
   "source": [
    "cursor = db.inventory.find({\"status\": \"A\"}, {\"size.uom\": 0})\n",
    "print_cursor(cursor)"
   ]
  },
  {
   "cell_type": "markdown",
   "id": "7bcb6be8",
   "metadata": {},
   "source": [
    "## Projection on Embedded Documents in an Array"
   ]
  },
  {
   "cell_type": "code",
   "execution_count": 49,
   "id": "d6047a9f",
   "metadata": {},
   "outputs": [
    {
     "name": "stdout",
     "output_type": "stream",
     "text": [
      "{'_id': ObjectId('620c2853a2059b416e5449fb'), 'item': 'journal', 'status': 'A', 'instock': [{'qty': 5}]}\n",
      "{'_id': ObjectId('620c2853a2059b416e5449fc'), 'item': 'notebook', 'status': 'A', 'instock': [{'qty': 5}]}\n",
      "{'_id': ObjectId('620c2853a2059b416e5449ff'), 'item': 'postcard', 'status': 'A', 'instock': [{'qty': 15}, {'qty': 35}]}\n"
     ]
    }
   ],
   "source": [
    "cursor = db.inventory.find({\"status\": \"A\"}, {\"item\": 1, \"status\": 1, \"instock.qty\": 1})\n",
    "print_cursor(cursor)"
   ]
  },
  {
   "cell_type": "markdown",
   "id": "5cd50d3b",
   "metadata": {},
   "source": [
    "## Project Specific Array Elements in the Returned Array\n",
    "For fields that contain arrays, MongoDB provides the following projection operators for manipulating arrays: `$elemMatch`, `$slice`, and `$`. Try them in lab."
   ]
  },
  {
   "cell_type": "code",
   "execution_count": 50,
   "id": "ba2723b2",
   "metadata": {},
   "outputs": [
    {
     "name": "stdout",
     "output_type": "stream",
     "text": [
      "{'_id': ObjectId('620c2853a2059b416e5449fb'), 'item': 'journal', 'status': 'A', 'instock': [{'warehouse': 'A', 'qty': 5}]}\n",
      "{'_id': ObjectId('620c2853a2059b416e5449fc'), 'item': 'notebook', 'status': 'A', 'instock': [{'warehouse': 'C', 'qty': 5}]}\n",
      "{'_id': ObjectId('620c2853a2059b416e5449ff'), 'item': 'postcard', 'status': 'A', 'instock': [{'warehouse': 'C', 'qty': 35}]}\n"
     ]
    }
   ],
   "source": [
    "cursor = db.inventory.find(\n",
    "    {\"status\": \"A\"},\n",
    "    {\"item\": 1, \"status\": 1, \"instock\": {\"$slice\": -1}})\n",
    "print_cursor(cursor)"
   ]
  },
  {
   "cell_type": "markdown",
   "id": "5a67f5e7",
   "metadata": {},
   "source": [
    "---\n",
    "# Query for Null or Missing Fields"
   ]
  },
  {
   "cell_type": "code",
   "execution_count": 51,
   "id": "60c35337",
   "metadata": {},
   "outputs": [],
   "source": [
    "client.drop_database(\"local\")"
   ]
  },
  {
   "cell_type": "code",
   "execution_count": 52,
   "id": "f4a89643",
   "metadata": {},
   "outputs": [
    {
     "data": {
      "text/plain": [
       "<pymongo.results.InsertManyResult at 0x1aa8655ab00>"
      ]
     },
     "execution_count": 52,
     "metadata": {},
     "output_type": "execute_result"
    }
   ],
   "source": [
    "db.inventory.insert_many([{\"_id\": 1, \"item\": None}, {\"_id\": 2}])"
   ]
  },
  {
   "cell_type": "markdown",
   "id": "7719f366",
   "metadata": {},
   "source": [
    "## Equality Filter"
   ]
  },
  {
   "cell_type": "code",
   "execution_count": 53,
   "id": "c46c3e9e",
   "metadata": {},
   "outputs": [
    {
     "name": "stdout",
     "output_type": "stream",
     "text": [
      "{'_id': 1, 'item': None}\n",
      "{'_id': 2}\n"
     ]
    }
   ],
   "source": [
    "cursor = db.inventory.find({\"item\": None})\n",
    "print_cursor(cursor)"
   ]
  },
  {
   "cell_type": "markdown",
   "id": "56a9d513",
   "metadata": {},
   "source": [
    "## Type Check"
   ]
  },
  {
   "cell_type": "code",
   "execution_count": 54,
   "id": "9489c384",
   "metadata": {},
   "outputs": [
    {
     "name": "stdout",
     "output_type": "stream",
     "text": [
      "{'_id': 1, 'item': None}\n"
     ]
    }
   ],
   "source": [
    "cursor = db.inventory.find({\"item\": {\"$type\": 10}})\n",
    "print_cursor(cursor)"
   ]
  },
  {
   "cell_type": "markdown",
   "id": "f20783f6",
   "metadata": {},
   "source": [
    "## Existence Check"
   ]
  },
  {
   "cell_type": "code",
   "execution_count": 55,
   "id": "b9ce391c",
   "metadata": {},
   "outputs": [
    {
     "name": "stdout",
     "output_type": "stream",
     "text": [
      "{'_id': 2}\n"
     ]
    }
   ],
   "source": [
    "cursor = db.inventory.find({\"item\": {\"$exists\":False}})\n",
    "print_cursor(cursor )"
   ]
  },
  {
   "cell_type": "markdown",
   "id": "f0d13230",
   "metadata": {},
   "source": [
    "---\n",
    "# Update Documents"
   ]
  },
  {
   "cell_type": "code",
   "execution_count": 56,
   "id": "9666d1e1",
   "metadata": {},
   "outputs": [],
   "source": [
    "client.drop_database(\"local\")"
   ]
  },
  {
   "cell_type": "code",
   "execution_count": 57,
   "id": "1ef10c3a",
   "metadata": {},
   "outputs": [
    {
     "data": {
      "text/plain": [
       "<pymongo.results.InsertManyResult at 0x1aa86582ac0>"
      ]
     },
     "execution_count": 57,
     "metadata": {},
     "output_type": "execute_result"
    }
   ],
   "source": [
    "db.inventory.insert_many([\n",
    "    {\"item\": \"canvas\",\n",
    "     \"qty\": 100,\n",
    "     \"size\": {\"h\": 28, \"w\": 35.5, \"uom\": \"cm\"},\n",
    "     \"status\": \"A\"},\n",
    "    {\"item\": \"journal\",\n",
    "     \"qty\": 25,\n",
    "     \"size\": {\"h\": 14, \"w\": 21, \"uom\": \"cm\"},\n",
    "     \"status\": \"A\"},\n",
    "    {\"item\": \"mat\",\n",
    "     \"qty\": 85,\n",
    "     \"size\": {\"h\": 27.9, \"w\": 35.5, \"uom\": \"cm\"},\n",
    "     \"status\": \"A\"},\n",
    "    {\"item\": \"mousepad\",\n",
    "     \"qty\": 25,\n",
    "     \"size\": {\"h\": 19, \"w\": 22.85, \"uom\": \"cm\"},\n",
    "     \"status\": \"P\"},\n",
    "    {\"item\": \"notebook\",\n",
    "     \"qty\": 50,\n",
    "     \"size\": {\"h\": 8.5, \"w\": 11, \"uom\": \"in\"},\n",
    "     \"status\": \"P\"},\n",
    "    {\"item\": \"paper\",\n",
    "     \"qty\": 100,\n",
    "     \"size\": {\"h\": 8.5, \"w\": 11, \"uom\": \"in\"},\n",
    "     \"status\": \"D\"},\n",
    "    {\"item\": \"planner\",\n",
    "     \"qty\": 75,\n",
    "     \"size\": {\"h\": 22.85, \"w\": 30, \"uom\": \"cm\"},\n",
    "     \"status\": \"D\"},\n",
    "    {\"item\": \"postcard\",\n",
    "     \"qty\": 45,\n",
    "     \"size\": {\"h\": 10, \"w\": 15.25, \"uom\": \"cm\"},\n",
    "     \"status\": \"A\"},\n",
    "    {\"item\": \"sketchbook\",\n",
    "     \"qty\": 80,\n",
    "     \"size\": {\"h\": 14, \"w\": 21, \"uom\": \"cm\"},\n",
    "     \"status\": \"A\"},\n",
    "    {\"item\": \"sketch pad\",\n",
    "     \"qty\": 95,\n",
    "     \"size\": {\"h\": 22.85, \"w\": 30.5, \"uom\": \"cm\"},\n",
    "     \"status\": \"A\"}])"
   ]
  },
  {
   "cell_type": "markdown",
   "id": "b1d61894",
   "metadata": {},
   "source": [
    "## Update Documents in a Collection"
   ]
  },
  {
   "cell_type": "markdown",
   "id": "5aec6016",
   "metadata": {},
   "source": [
    "### Update a Single Document"
   ]
  },
  {
   "cell_type": "code",
   "execution_count": 58,
   "id": "841f4e18",
   "metadata": {},
   "outputs": [
    {
     "name": "stdout",
     "output_type": "stream",
     "text": [
      "{'_id': ObjectId('620c2854a2059b416e544a05'), 'item': 'paper', 'qty': 100, 'size': {'h': 8.5, 'w': 11, 'uom': 'cm'}, 'status': 'P', 'lastModified': datetime.datetime(2022, 2, 15, 22, 25, 24, 186000)}\n"
     ]
    }
   ],
   "source": [
    "db.inventory.update_one(\n",
    "    {\"item\": \"paper\"},\n",
    "    {\"$set\": {\"size.uom\": \"cm\", \"status\": \"P\"},\n",
    "     \"$currentDate\": {\"lastModified\": True}})\n",
    "\n",
    "cursor = db.inventory.find({\"item\": \"paper\"})\n",
    "print_cursor(cursor)"
   ]
  },
  {
   "cell_type": "markdown",
   "id": "04ae7ed4",
   "metadata": {},
   "source": [
    "### Update Multiple  Documents"
   ]
  },
  {
   "cell_type": "code",
   "execution_count": 59,
   "id": "a96aeefa",
   "metadata": {},
   "outputs": [
    {
     "name": "stdout",
     "output_type": "stream",
     "text": [
      "{'_id': ObjectId('620c2854a2059b416e544a00'), 'item': 'canvas', 'qty': 100, 'size': {'h': 28, 'w': 35.5, 'uom': 'cm'}, 'status': 'A'}\n",
      "{'_id': ObjectId('620c2854a2059b416e544a01'), 'item': 'journal', 'qty': 25, 'size': {'h': 14, 'w': 21, 'uom': 'in'}, 'status': 'P', 'lastModified': datetime.datetime(2022, 2, 15, 22, 25, 24, 200000)}\n",
      "{'_id': ObjectId('620c2854a2059b416e544a02'), 'item': 'mat', 'qty': 85, 'size': {'h': 27.9, 'w': 35.5, 'uom': 'cm'}, 'status': 'A'}\n",
      "{'_id': ObjectId('620c2854a2059b416e544a03'), 'item': 'mousepad', 'qty': 25, 'size': {'h': 19, 'w': 22.85, 'uom': 'in'}, 'status': 'P', 'lastModified': datetime.datetime(2022, 2, 15, 22, 25, 24, 200000)}\n",
      "{'_id': ObjectId('620c2854a2059b416e544a04'), 'item': 'notebook', 'qty': 50, 'size': {'h': 8.5, 'w': 11, 'uom': 'in'}, 'status': 'P'}\n",
      "{'_id': ObjectId('620c2854a2059b416e544a05'), 'item': 'paper', 'qty': 100, 'size': {'h': 8.5, 'w': 11, 'uom': 'cm'}, 'status': 'P', 'lastModified': datetime.datetime(2022, 2, 15, 22, 25, 24, 186000)}\n",
      "{'_id': ObjectId('620c2854a2059b416e544a06'), 'item': 'planner', 'qty': 75, 'size': {'h': 22.85, 'w': 30, 'uom': 'cm'}, 'status': 'D'}\n",
      "{'_id': ObjectId('620c2854a2059b416e544a07'), 'item': 'postcard', 'qty': 45, 'size': {'h': 10, 'w': 15.25, 'uom': 'in'}, 'status': 'P', 'lastModified': datetime.datetime(2022, 2, 15, 22, 25, 24, 200000)}\n",
      "{'_id': ObjectId('620c2854a2059b416e544a08'), 'item': 'sketchbook', 'qty': 80, 'size': {'h': 14, 'w': 21, 'uom': 'cm'}, 'status': 'A'}\n",
      "{'_id': ObjectId('620c2854a2059b416e544a09'), 'item': 'sketch pad', 'qty': 95, 'size': {'h': 22.85, 'w': 30.5, 'uom': 'cm'}, 'status': 'A'}\n"
     ]
    }
   ],
   "source": [
    "db.inventory.update_many(\n",
    "    {\"qty\": {\"$lt\": 50}},\n",
    "    {\"$set\": {\"size.uom\": \"in\", \"status\": \"P\"}, \"$currentDate\": {\"lastModified\": True}},\n",
    ")\n",
    "\n",
    "cursor = db.inventory.find({})\n",
    "print_cursor(cursor)"
   ]
  },
  {
   "cell_type": "markdown",
   "id": "03ff2d28",
   "metadata": {},
   "source": [
    "### Replace a Whole Document"
   ]
  },
  {
   "cell_type": "code",
   "execution_count": 60,
   "id": "90d756cd",
   "metadata": {},
   "outputs": [
    {
     "data": {
      "text/plain": [
       "<pymongo.results.UpdateResult at 0x1aa86537680>"
      ]
     },
     "execution_count": 60,
     "metadata": {},
     "output_type": "execute_result"
    }
   ],
   "source": [
    "db.inventory.replace_one(\n",
    "    {\"item\": \"paper\"},\n",
    "    {\n",
    "        \"item\": \"paper\",\n",
    "        \"instock\": [{\"warehouse\": \"A\", \"qty\": 60}, {\"warehouse\": \"B\", \"qty\": 40}],\n",
    "    },\n",
    ")"
   ]
  },
  {
   "cell_type": "markdown",
   "id": "fd2c9c2d",
   "metadata": {},
   "source": [
    "---\n",
    "# Delete Documents"
   ]
  },
  {
   "cell_type": "code",
   "execution_count": 61,
   "id": "a99d6439",
   "metadata": {},
   "outputs": [],
   "source": [
    "client.drop_database(\"local\")"
   ]
  },
  {
   "cell_type": "code",
   "execution_count": 62,
   "id": "629f42b4",
   "metadata": {},
   "outputs": [
    {
     "data": {
      "text/plain": [
       "<pymongo.results.InsertManyResult at 0x1aa865794c0>"
      ]
     },
     "execution_count": 62,
     "metadata": {},
     "output_type": "execute_result"
    }
   ],
   "source": [
    "db.inventory.insert_many([\n",
    "    {\"item\": \"journal\",\n",
    "     \"qty\": 25,\n",
    "     \"size\": {\"h\": 14, \"w\": 21, \"uom\": \"cm\"},\n",
    "     \"status\": \"A\"},\n",
    "    {\"item\": \"notebook\",\n",
    "     \"qty\": 50,\n",
    "     \"size\": {\"h\": 8.5, \"w\": 11, \"uom\": \"in\"},\n",
    "     \"status\": \"P\"},\n",
    "    {\"item\": \"paper\",\n",
    "     \"qty\": 100,\n",
    "     \"size\": {\"h\": 8.5, \"w\": 11, \"uom\": \"in\"},\n",
    "     \"status\": \"D\"},\n",
    "    {\"item\": \"planner\",\n",
    "     \"qty\": 75,\n",
    "     \"size\": {\"h\": 22.85, \"w\": 30, \"uom\": \"cm\"},\n",
    "     \"status\": \"D\"},\n",
    "    {\"item\": \"postcard\",\n",
    "     \"qty\": 45,\n",
    "     \"size\": {\"h\": 10, \"w\": 15.25, \"uom\": \"cm\"},\n",
    "     \"status\": \"A\"}])"
   ]
  },
  {
   "cell_type": "markdown",
   "id": "aa685302",
   "metadata": {},
   "source": [
    "## Delete All Documents"
   ]
  },
  {
   "cell_type": "code",
   "execution_count": 63,
   "id": "31dbadb6",
   "metadata": {},
   "outputs": [
    {
     "data": {
      "text/plain": [
       "<pymongo.results.DeleteResult at 0x1aa8657cbc0>"
      ]
     },
     "execution_count": 63,
     "metadata": {},
     "output_type": "execute_result"
    }
   ],
   "source": [
    "db.inventory.delete_many({})"
   ]
  },
  {
   "cell_type": "markdown",
   "id": "338ebf18",
   "metadata": {},
   "source": [
    "## Delete All Documents that Match a Condition"
   ]
  },
  {
   "cell_type": "code",
   "execution_count": 64,
   "id": "c0e48c9c",
   "metadata": {},
   "outputs": [
    {
     "data": {
      "text/plain": [
       "<pymongo.results.DeleteResult at 0x1aa86580640>"
      ]
     },
     "execution_count": 64,
     "metadata": {},
     "output_type": "execute_result"
    }
   ],
   "source": [
    "db.inventory.delete_many({\"status\": \"A\"})"
   ]
  },
  {
   "cell_type": "markdown",
   "id": "d30638b1",
   "metadata": {},
   "source": [
    "## Delete Only One Document that Matches a Condition"
   ]
  },
  {
   "cell_type": "code",
   "execution_count": 65,
   "id": "1ccdc3ff",
   "metadata": {},
   "outputs": [
    {
     "data": {
      "text/plain": [
       "<pymongo.results.DeleteResult at 0x1aa8655b640>"
      ]
     },
     "execution_count": 65,
     "metadata": {},
     "output_type": "execute_result"
    }
   ],
   "source": [
    "db.inventory.delete_one({\"status\": \"D\"})"
   ]
  }
 ],
 "metadata": {
  "kernelspec": {
   "display_name": "Python 3 (ipykernel)",
   "language": "python",
   "name": "python3"
  },
  "language_info": {
   "codemirror_mode": {
    "name": "ipython",
    "version": 3
   },
   "file_extension": ".py",
   "mimetype": "text/x-python",
   "name": "python",
   "nbconvert_exporter": "python",
   "pygments_lexer": "ipython3",
   "version": "3.9.7"
  }
 },
 "nbformat": 4,
 "nbformat_minor": 5
}
